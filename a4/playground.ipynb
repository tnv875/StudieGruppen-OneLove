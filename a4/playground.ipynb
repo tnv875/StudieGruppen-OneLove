{
 "cells": [
  {
   "cell_type": "code",
   "execution_count": 53,
   "metadata": {},
   "outputs": [],
   "source": [
    "text = \"GET / HTTP/1.1\\r\\nHost: sns.cs.princeton.edu\\r\\nAccept: */*\\r\\nAccept-Language: en-us\\r\\nAccept-Encoding: gzip, deflate\\r\\nUser-Agent: Mozilla/5.0 (Macintosh; U; Intel Mac OS X 10.5; en-US; rv:1.9.2.13) Gecko/20101203 Firefox/3.6.13\\r\\nConnection: Keep-Alive\\r\\n\\r\\n\""
   ]
  },
  {
   "cell_type": "code",
   "execution_count": 64,
   "metadata": {},
   "outputs": [
    {
     "data": {
      "text/plain": [
       "['GET / HTTP/1.1',\n",
       " 'Host: sns.cs.princeton.edu',\n",
       " 'Accept: */*',\n",
       " 'Accept-Language: en-us',\n",
       " 'Accept-Encoding: gzip, deflate',\n",
       " 'User-Agent: Mozilla/5.0 (Macintosh; U; Intel Mac OS X 10.5; en-US; rv:1.9.2.13) Gecko/20101203 Firefox/3.6.13',\n",
       " 'Connection: Keep-Alive',\n",
       " '',\n",
       " '']"
      ]
     },
     "execution_count": 64,
     "metadata": {},
     "output_type": "execute_result"
    }
   ],
   "source": [
    "text_split = text.split(sep=\"\\r\\n\")\n",
    "text_split"
   ]
  },
  {
   "cell_type": "code",
   "execution_count": 65,
   "metadata": {},
   "outputs": [],
   "source": [
    "request_lines = text_split[0]"
   ]
  },
  {
   "cell_type": "code",
   "execution_count": 59,
   "metadata": {},
   "outputs": [],
   "source": [
    "method, url, protocol = request_lines.split()"
   ]
  },
  {
   "cell_type": "code",
   "execution_count": 60,
   "metadata": {},
   "outputs": [
    {
     "data": {
      "text/plain": [
       "'GET'"
      ]
     },
     "execution_count": 60,
     "metadata": {},
     "output_type": "execute_result"
    }
   ],
   "source": [
    "method "
   ]
  },
  {
   "cell_type": "code",
   "execution_count": 86,
   "metadata": {},
   "outputs": [
    {
     "ename": "TypeError",
     "evalue": "cannot unpack non-iterable int object",
     "output_type": "error",
     "traceback": [
      "\u001b[0;31m---------------------------------------------------------------------------\u001b[0m",
      "\u001b[0;31mTypeError\u001b[0m                                 Traceback (most recent call last)",
      "Cell \u001b[0;32mIn[86], line 1\u001b[0m\n\u001b[0;32m----> 1\u001b[0m a, b, c \u001b[39m=\u001b[39m \u001b[39m-\u001b[39m\u001b[39m1\u001b[39m\n",
      "\u001b[0;31mTypeError\u001b[0m: cannot unpack non-iterable int object"
     ]
    }
   ],
   "source": [
    "a, b, c = -1"
   ]
  },
  {
   "cell_type": "code",
   "execution_count": 61,
   "metadata": {},
   "outputs": [
    {
     "data": {
      "text/plain": [
       "'HTTP/1.1'"
      ]
     },
     "execution_count": 61,
     "metadata": {},
     "output_type": "execute_result"
    }
   ],
   "source": [
    "protocol"
   ]
  },
  {
   "cell_type": "code",
   "execution_count": 26,
   "metadata": {},
   "outputs": [],
   "source": [
    "import re\n",
    "\n",
    "pattern = re.compile(r\"^(.*)$\")"
   ]
  },
  {
   "cell_type": "code",
   "execution_count": 43,
   "metadata": {},
   "outputs": [
    {
     "name": "stdout",
     "output_type": "stream",
     "text": [
      "[]\n"
     ]
    }
   ],
   "source": [
    "request_lines = pattern.findall(text)\n",
    "\n",
    "print(request_lines)"
   ]
  },
  {
   "cell_type": "code",
   "execution_count": 45,
   "metadata": {},
   "outputs": [],
   "source": [
    "mylist = ['a','b','c', 'd', 'e']"
   ]
  },
  {
   "cell_type": "code",
   "execution_count": 68,
   "metadata": {},
   "outputs": [
    {
     "data": {
      "text/plain": [
       "[]"
      ]
     },
     "execution_count": 68,
     "metadata": {},
     "output_type": "execute_result"
    }
   ],
   "source": [
    "mylist[10:]"
   ]
  },
  {
   "cell_type": "code",
   "execution_count": 81,
   "metadata": {},
   "outputs": [],
   "source": [
    "string_message = \"GET / HTTP/1.1\\r\\nHost: sns.cs.princeton.edu\\r\\nAccept: */*\\r\\nAccept-Language: en-us\\r\\nAccept-Encoding: gzip, deflate\\r\\nUser-Agent: Mozilla/5.0 (Macintosh; U; Intel Mac OS X 10.5; en-US; rv:1.9.2.13) Gecko/20101203 Firefox/3.6.13\\r\\nConnection: Keep-Alive\\r\\n\\r\\n\"\n",
    "\n",
    "split_message = string_message.split(sep=\"\\r\\n\")\n",
    "\n",
    "# Grab first line of message\n",
    "request_lines = split_message[0]\n",
    "\n",
    "# Decompose into method, url and protocol using .split() to split by space character\n",
    "method, url, protocol = request_lines.split()\n",
    "\n",
    "# Define header_lines from end of request_lines until empty line is encountered,\n",
    "# marking the end of the header_lines\n",
    "i = 1\n",
    "header_lines = []\n",
    "while split_message[i] != \"\":\n",
    "    header_lines.append(split_message[i])\n",
    "    i += 1\n",
    "\n",
    "# TODO: Handle individual headers\n",
    "\n",
    "# Define final lines as entity_body\n",
    "entity_body = header_lines[i:]"
   ]
  },
  {
   "cell_type": "code",
   "execution_count": 45,
   "metadata": {},
   "outputs": [],
   "source": [
    "x = {'a': 1, 'b': 2, 'c': 3}"
   ]
  },
  {
   "cell_type": "code",
   "execution_count": 54,
   "metadata": {},
   "outputs": [
    {
     "data": {
      "text/plain": [
       "True"
      ]
     },
     "execution_count": 54,
     "metadata": {},
     "output_type": "execute_result"
    }
   ],
   "source": [
    "'a' in x"
   ]
  },
  {
   "cell_type": "code",
   "execution_count": 1,
   "metadata": {},
   "outputs": [
    {
     "name": "stdout",
     "output_type": "stream",
     "text": [
      "0\n",
      "1\n",
      "2\n",
      "3\n",
      "4\n"
     ]
    }
   ],
   "source": [
    "for i in range(5):\n",
    "    print(i)"
   ]
  },
  {
   "cell_type": "code",
   "execution_count": 42,
   "metadata": {},
   "outputs": [],
   "source": [
    "from datetime import datetime"
   ]
  },
  {
   "cell_type": "code",
   "execution_count": 41,
   "metadata": {},
   "outputs": [
    {
     "data": {
      "text/plain": [
       "'statusline\\r\\nresponse_headers\\r\\n\\r\\ndata'"
      ]
     },
     "execution_count": 41,
     "metadata": {},
     "output_type": "execute_result"
    }
   ],
   "source": [
    "statusline = 'statusline'\n",
    "response_headers = 'response_headers'\n",
    "empty = ''\n",
    "data = 'data'\n",
    "\n",
    "'\\r\\n'.join([statusline, response_headers, empty, data])"
   ]
  },
  {
   "cell_type": "code",
   "execution_count": 39,
   "metadata": {},
   "outputs": [],
   "source": [
    "If_Modified_Since = 'Wed, 21 Oct 2015 07:28:00 GMT'\n",
    "\n",
    "obj = datetime.strptime(If_Modified_Since, '%a, %d %b %Y %H:%M:%S GMT')\n",
    "\n",
    "obj.ctime()\n",
    "\n",
    "last_modified_secs = 1_677_707_453.3\n",
    "last_modified_date = datetime.fromtimestamp(last_modified_secs)"
   ]
  },
  {
   "cell_type": "code",
   "execution_count": null,
   "metadata": {},
   "outputs": [],
   "source": []
  },
  {
   "cell_type": "code",
   "execution_count": 20,
   "metadata": {},
   "outputs": [],
   "source": [
    "class Person():\n",
    "    def __init__(self, name) -> None:\n",
    "        self.name = name\n",
    "    \n",
    "    def add_age(self, age):\n",
    "        self.age = age\n",
    "\n",
    "    def grow_older(self):\n",
    "        self.age +=1"
   ]
  },
  {
   "cell_type": "code",
   "execution_count": 21,
   "metadata": {},
   "outputs": [],
   "source": [
    "me = Person('Daniel')"
   ]
  },
  {
   "cell_type": "code",
   "execution_count": 22,
   "metadata": {},
   "outputs": [],
   "source": [
    "me.name\n",
    "me.add_age(29)"
   ]
  },
  {
   "cell_type": "code",
   "execution_count": 24,
   "metadata": {},
   "outputs": [
    {
     "data": {
      "text/plain": [
       "29"
      ]
     },
     "execution_count": 24,
     "metadata": {},
     "output_type": "execute_result"
    }
   ],
   "source": [
    "me.age"
   ]
  },
  {
   "cell_type": "code",
   "execution_count": 42,
   "metadata": {},
   "outputs": [],
   "source": [
    "me.grow_older()"
   ]
  },
  {
   "cell_type": "code",
   "execution_count": 44,
   "metadata": {},
   "outputs": [
    {
     "data": {
      "text/plain": [
       "45"
      ]
     },
     "execution_count": 44,
     "metadata": {},
     "output_type": "execute_result"
    }
   ],
   "source": [
    "me.age"
   ]
  },
  {
   "cell_type": "code",
   "execution_count": 44,
   "metadata": {},
   "outputs": [],
   "source": [
    "split_message = ['GET / HTTP/1.1', 'Host: 127.0.0.1', 'Accept: */*', 'Accept-Encoding: gzip, deflate', 'User-Agent: Mozilla/5.0 (Macintosh; U; Intel Mac OS X 10.5; en-US; rv:1.9.2.13) Gecko/20101203 Firefox/3.6.13', 'Connection: Keep-Alive', '', '']"
   ]
  },
  {
   "cell_type": "code",
   "execution_count": 49,
   "metadata": {},
   "outputs": [
    {
     "data": {
      "text/plain": [
       "'GET'"
      ]
     },
     "execution_count": 49,
     "metadata": {},
     "output_type": "execute_result"
    }
   ],
   "source": [
    "\n",
    "def request_lines(split_message):\n",
    "    request_lines = split_message[0]\n",
    "    # Decompose into method, url and protocol using .split() to split by space character\n",
    "    method, url, protocol = request_lines.split()\n",
    "\n",
    "    # ASSERTS\n",
    "    # - method is supported\n",
    "    if method not in [\"GET\", \"HEAD\"]:\n",
    "        self.status = 400\n",
    "        self._handle_error()\n",
    "        return\n",
    "\n",
    "    # - url exists\n",
    "    if not os.path.exists(url):\n",
    "        self.status = 400\n",
    "        self._handle_error()\n",
    "        return\n",
    "\n",
    "    # - protocol is HTTP/1.1\n",
    "    if protocol != \"HTTP/1.1\":\n",
    "        self.status = 400\n",
    "        self._handle_error()\n",
    "        return\n",
    "\n",
    "    return method\n",
    "\n",
    "request_lines(split_message)"
   ]
  },
  {
   "cell_type": "code",
   "execution_count": 52,
   "metadata": {},
   "outputs": [
    {
     "data": {
      "text/plain": [
       "'<!DOCTYPE html>\\n<html>\\n<body>\\n\\n<h1>Hej verden!</h1>\\n<img href=\"Dog_meme.jpg\"/>\\n\\n</body>\\n</html>'"
      ]
     },
     "execution_count": 52,
     "metadata": {},
     "output_type": "execute_result"
    }
   ],
   "source": [
    "url = './index.html'\n",
    "\n",
    "with open(url) as requested_file:\n",
    "    data = requested_file.read()\n",
    "data"
   ]
  }
 ],
 "metadata": {
  "kernelspec": {
   "display_name": "Python 3",
   "language": "python",
   "name": "python3"
  },
  "language_info": {
   "codemirror_mode": {
    "name": "ipython",
    "version": 3
   },
   "file_extension": ".py",
   "mimetype": "text/x-python",
   "name": "python",
   "nbconvert_exporter": "python",
   "pygments_lexer": "ipython3",
   "version": "3.9.15"
  },
  "orig_nbformat": 4,
  "vscode": {
   "interpreter": {
    "hash": "98d7f664e36a4c1ece38667518bb26639d3255d52005e70285ce975c47c509c3"
   }
  }
 },
 "nbformat": 4,
 "nbformat_minor": 2
}
